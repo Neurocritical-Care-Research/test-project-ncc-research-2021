{
 "cells": [
  {
   "cell_type": "markdown",
   "id": "2f0d0289-77a3-4e92-b9bc-ce86d4842007",
   "metadata": {},
   "source": [
    "# Test File"
   ]
  },
  {
   "cell_type": "markdown",
   "id": "6e251542-62a9-4577-9c3d-25cebb716df4",
   "metadata": {
    "jp-MarkdownHeadingCollapsed": true,
    "tags": []
   },
   "source": [
    "Here is a test file to show some R code if I can....and where it saves."
   ]
  },
  {
   "cell_type": "code",
   "execution_count": 5,
   "id": "c2777dea-c95b-4297-96ab-5aaddd69cf0b",
   "metadata": {},
   "outputs": [
    {
     "name": "stdout",
     "output_type": "stream",
     "text": [
      "[1] \"hello!\"\n"
     ]
    }
   ],
   "source": [
    "print(\"hello!\")"
   ]
  },
  {
   "cell_type": "code",
   "execution_count": 1,
   "id": "dd8e0376-7983-46a0-9f04-2586c65b6491",
   "metadata": {},
   "outputs": [
    {
     "name": "stderr",
     "output_type": "stream",
     "text": [
      "Warning message:\n",
      "\"package 'ggplot2' was built under R version 4.0.5\"\n"
     ]
    }
   ],
   "source": [
    "library(ggplot2)"
   ]
  },
  {
   "cell_type": "code",
   "execution_count": 2,
   "id": "1744116e-d9c0-4e5e-af27-83f2b7832e7e",
   "metadata": {},
   "outputs": [
    {
     "data": {
      "text/plain": [
       "               _                           \n",
       "platform       x86_64-w64-mingw32          \n",
       "arch           x86_64                      \n",
       "os             mingw32                     \n",
       "system         x86_64, mingw32             \n",
       "status                                     \n",
       "major          4                           \n",
       "minor          0.3                         \n",
       "year           2020                        \n",
       "month          10                          \n",
       "day            10                          \n",
       "svn rev        79318                       \n",
       "language       R                           \n",
       "version.string R version 4.0.3 (2020-10-10)\n",
       "nickname       Bunny-Wunnies Freak Out     "
      ]
     },
     "metadata": {},
     "output_type": "display_data"
    }
   ],
   "source": [
    "version"
   ]
  },
  {
   "cell_type": "code",
   "execution_count": 7,
   "id": "1931f2f3-05c6-4db9-a5a4-20f4380ad59c",
   "metadata": {},
   "outputs": [
    {
     "ename": "ERROR",
     "evalue": "Error in setwd(\"C:/Users/foremabo/OneDrive - University of Cincinnati/Projects/2 Project PI/Cacic NeuroPICS 2020/NSICU Outcomes Project Dataset/Source Data/Summary Count\"): cannot change working directory\n",
     "output_type": "error",
     "traceback": [
      "Error in setwd(\"C:/Users/foremabo/OneDrive - University of Cincinnati/Projects/2 Project PI/Cacic NeuroPICS 2020/NSICU Outcomes Project Dataset/Source Data/Summary Count\"): cannot change working directory\nTraceback:\n",
      "1. setwd(\"C:/Users/foremabo/OneDrive - University of Cincinnati/Projects/2 Project PI/Cacic NeuroPICS 2020/NSICU Outcomes Project Dataset/Source Data/Summary Count\")"
     ]
    }
   ],
   "source": [
    "setwd('C:/Users/foremabo/OneDrive - University of Cincinnati/Projects/2 Project PI/Cacic NeuroPICS 2020/NSICU Outcomes Project Dataset/Source Data/Summary Count')"
   ]
  }
 ],
 "metadata": {
  "kernelspec": {
   "display_name": "R",
   "language": "R",
   "name": "ir"
  },
  "language_info": {
   "codemirror_mode": "r",
   "file_extension": ".r",
   "mimetype": "text/x-r-source",
   "name": "R",
   "pygments_lexer": "r",
   "version": "4.0.3"
  }
 },
 "nbformat": 4,
 "nbformat_minor": 5
}
