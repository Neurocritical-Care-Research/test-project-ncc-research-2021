{
 "cells": [
  {
   "cell_type": "markdown",
   "id": "2f0d0289-77a3-4e92-b9bc-ce86d4842007",
   "metadata": {},
   "source": [
    "# Test File"
   ]
  },
  {
   "cell_type": "markdown",
   "id": "6e251542-62a9-4577-9c3d-25cebb716df4",
   "metadata": {
    "jp-MarkdownHeadingCollapsed": true,
    "tags": []
   },
   "source": [
    "Here is a test file to show some R code if I can....and where it saves."
   ]
  },
  {
   "cell_type": "code",
   "execution_count": 5,
   "id": "c2777dea-c95b-4297-96ab-5aaddd69cf0b",
   "metadata": {},
   "outputs": [
    {
     "name": "stdout",
     "output_type": "stream",
     "text": [
      "[1] \"hello!\"\n"
     ]
    }
   ],
   "source": [
    "print(\"hello!\")"
   ]
  },
  {
   "cell_type": "code",
   "execution_count": 26,
   "id": "dd8e0376-7983-46a0-9f04-2586c65b6491",
   "metadata": {
    "tags": []
   },
   "outputs": [],
   "source": [
    "suppressMessages(library(ggplot2))"
   ]
  },
  {
   "cell_type": "code",
   "execution_count": 16,
   "id": "69891aa4-ff4d-4e80-877e-a6ab78c03aae",
   "metadata": {},
   "outputs": [],
   "source": [
    "setwd(\"C:/Users/foremabo/OneDrive - University of Cincinnati/Projects/2 Project PI/Cacic NeuroPICS 2020/NSICU Outcomes Project Dataset/Source Data/Summary Count Tables n4338\")"
   ]
  },
  {
   "cell_type": "code",
   "execution_count": 18,
   "id": "1931f2f3-05c6-4db9-a5a4-20f4380ad59c",
   "metadata": {},
   "outputs": [],
   "source": [
    "data<-read.csv(\"Flowsheet Measures Summary n4272.csv\", header=TRUE, na.strings=\"NA\")"
   ]
  },
  {
   "cell_type": "code",
   "execution_count": 19,
   "id": "55b7ac86-4877-4735-b5fb-7690613dc30b",
   "metadata": {},
   "outputs": [
    {
     "data": {
      "text/html": [
       "<table class=\"dataframe\">\n",
       "<caption>A data.frame: 6 × 2</caption>\n",
       "<thead>\n",
       "\t<tr><th></th><th scope=col>measure</th><th scope=col>n</th></tr>\n",
       "\t<tr><th></th><th scope=col>&lt;chr&gt;</th><th scope=col>&lt;int&gt;</th></tr>\n",
       "</thead>\n",
       "<tbody>\n",
       "\t<tr><th scope=row>1</th><td>PULSE OXIMETRY                      </td><td>699238</td></tr>\n",
       "\t<tr><th scope=row>2</th><td>PULSE                               </td><td>679457</td></tr>\n",
       "\t<tr><th scope=row>3</th><td>RESPIRATIONS                        </td><td>648822</td></tr>\n",
       "\t<tr><th scope=row>4</th><td>BLOOD PRESSURE                      </td><td>602722</td></tr>\n",
       "\t<tr><th scope=row>5</th><td>R MAP                               </td><td>516730</td></tr>\n",
       "\t<tr><th scope=row>6</th><td>R CPN GLASGOW COMA SCALE EYE OPENING</td><td>443565</td></tr>\n",
       "</tbody>\n",
       "</table>\n"
      ],
      "text/latex": [
       "A data.frame: 6 × 2\n",
       "\\begin{tabular}{r|ll}\n",
       "  & measure & n\\\\\n",
       "  & <chr> & <int>\\\\\n",
       "\\hline\n",
       "\t1 & PULSE OXIMETRY                       & 699238\\\\\n",
       "\t2 & PULSE                                & 679457\\\\\n",
       "\t3 & RESPIRATIONS                         & 648822\\\\\n",
       "\t4 & BLOOD PRESSURE                       & 602722\\\\\n",
       "\t5 & R MAP                                & 516730\\\\\n",
       "\t6 & R CPN GLASGOW COMA SCALE EYE OPENING & 443565\\\\\n",
       "\\end{tabular}\n"
      ],
      "text/markdown": [
       "\n",
       "A data.frame: 6 × 2\n",
       "\n",
       "| <!--/--> | measure &lt;chr&gt; | n &lt;int&gt; |\n",
       "|---|---|---|\n",
       "| 1 | PULSE OXIMETRY                       | 699238 |\n",
       "| 2 | PULSE                                | 679457 |\n",
       "| 3 | RESPIRATIONS                         | 648822 |\n",
       "| 4 | BLOOD PRESSURE                       | 602722 |\n",
       "| 5 | R MAP                                | 516730 |\n",
       "| 6 | R CPN GLASGOW COMA SCALE EYE OPENING | 443565 |\n",
       "\n"
      ],
      "text/plain": [
       "  measure                              n     \n",
       "1 PULSE OXIMETRY                       699238\n",
       "2 PULSE                                679457\n",
       "3 RESPIRATIONS                         648822\n",
       "4 BLOOD PRESSURE                       602722\n",
       "5 R MAP                                516730\n",
       "6 R CPN GLASGOW COMA SCALE EYE OPENING 443565"
      ]
     },
     "metadata": {},
     "output_type": "display_data"
    }
   ],
   "source": [
    "head(data)"
   ]
  },
  {
   "cell_type": "code",
   "execution_count": 22,
   "id": "c538ef6b-a6ba-4baf-a1c6-66b69ba85ba4",
   "metadata": {},
   "outputs": [
    {
     "name": "stdout",
     "output_type": "stream",
     "text": [
      "'data.frame':\t697 obs. of  2 variables:\n",
      " $ measure: chr  \"PULSE OXIMETRY\" \"PULSE\" \"RESPIRATIONS\" \"BLOOD PRESSURE\" ...\n",
      " $ n      : int  699238 679457 648822 602722 516730 443565 439932 439787 439449 304634 ...\n"
     ]
    }
   ],
   "source": [
    "str(data)"
   ]
  },
  {
   "cell_type": "code",
   "execution_count": 23,
   "id": "c4051033-c0dc-4eb0-8822-ebe34012d384",
   "metadata": {},
   "outputs": [
    {
     "data": {
      "text/html": [
       "'data'"
      ],
      "text/latex": [
       "'data'"
      ],
      "text/markdown": [
       "'data'"
      ],
      "text/plain": [
       "[1] \"data\""
      ]
     },
     "metadata": {},
     "output_type": "display_data"
    }
   ],
   "source": [
    "ls()"
   ]
  },
  {
   "cell_type": "code",
   "execution_count": 24,
   "id": "6026e434-bf75-43a3-8009-0a7f3067172e",
   "metadata": {},
   "outputs": [
    {
     "data": {
      "text/plain": [
       "   measure                n         \n",
       " Length:697         Min.   :     1  \n",
       " Class :character   1st Qu.:    63  \n",
       " Mode  :character   Median :  1238  \n",
       "                    Mean   : 23384  \n",
       "                    3rd Qu.: 13489  \n",
       "                    Max.   :699238  "
      ]
     },
     "metadata": {},
     "output_type": "display_data"
    }
   ],
   "source": [
    "summary(data)"
   ]
  }
 ],
 "metadata": {
  "kernelspec": {
   "display_name": "R",
   "language": "R",
   "name": "ir"
  },
  "language_info": {
   "codemirror_mode": "r",
   "file_extension": ".r",
   "mimetype": "text/x-r-source",
   "name": "R",
   "pygments_lexer": "r",
   "version": "4.0.3"
  }
 },
 "nbformat": 4,
 "nbformat_minor": 5
}
