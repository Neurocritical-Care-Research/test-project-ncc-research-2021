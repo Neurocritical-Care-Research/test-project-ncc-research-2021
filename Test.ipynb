{
 "cells": [
  {
   "cell_type": "markdown",
   "id": "2f0d0289-77a3-4e92-b9bc-ce86d4842007",
   "metadata": {},
   "source": [
    "# Test File"
   ]
  },
  {
   "cell_type": "markdown",
   "id": "6e251542-62a9-4577-9c3d-25cebb716df4",
   "metadata": {
    "jp-MarkdownHeadingCollapsed": true,
    "tags": []
   },
   "source": [
    "Here is a test file to show some R code if I can....and where it saves."
   ]
  },
  {
   "cell_type": "code",
   "execution_count": 5,
   "id": "c2777dea-c95b-4297-96ab-5aaddd69cf0b",
   "metadata": {},
   "outputs": [
    {
     "name": "stdout",
     "output_type": "stream",
     "text": [
      "[1] \"hello!\"\n"
     ]
    }
   ],
   "source": [
    "print(\"hello!\")"
   ]
  }
 ],
 "metadata": {
  "kernelspec": {
   "display_name": "R",
   "language": "R",
   "name": "ir"
  },
  "language_info": {
   "codemirror_mode": "r",
   "file_extension": ".r",
   "mimetype": "text/x-r-source",
   "name": "R",
   "pygments_lexer": "r",
   "version": "4.0.3"
  }
 },
 "nbformat": 4,
 "nbformat_minor": 5
}
